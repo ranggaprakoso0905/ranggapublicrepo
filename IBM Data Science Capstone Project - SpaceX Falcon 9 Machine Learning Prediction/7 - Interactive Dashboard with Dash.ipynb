{
 "cells": [
  {
   "cell_type": "code",
   "execution_count": 1,
   "metadata": {},
   "outputs": [],
   "source": [
    "# Import required libraries\n",
    "import pandas as pd\n",
    "import dash\n",
    "from dash import html, dcc\n",
    "from dash.dependencies import Input, Output\n",
    "import plotly.express as px\n",
    "\n",
    "# Read the airline data into pandas dataframe\n",
    "spacex_df = pd.read_csv(\"spacex_launch_dash.csv\")\n",
    "max_payload = spacex_df['Payload Mass (kg)'].max()\n",
    "min_payload = spacex_df['Payload Mass (kg)'].min()"
   ]
  },
  {
   "cell_type": "code",
   "execution_count": 2,
   "metadata": {},
   "outputs": [
    {
     "data": {
      "text/html": [
       "\n",
       "        <iframe\n",
       "            width=\"100%\"\n",
       "            height=\"650\"\n",
       "            src=\"http://127.0.0.1:8050/\"\n",
       "            frameborder=\"0\"\n",
       "            allowfullscreen\n",
       "            \n",
       "        ></iframe>\n",
       "        "
      ],
      "text/plain": [
       "<IPython.lib.display.IFrame at 0x107fd7290>"
      ]
     },
     "metadata": {},
     "output_type": "display_data"
    }
   ],
   "source": [
    "# Create a dash application\n",
    "app = dash.Dash(__name__)\n",
    "\n",
    "# Create an app layout\n",
    "app.layout = html.Div(children=[html.H1('SpaceX Launch Records Dashboard',\n",
    "                                        style={'textAlign': 'center', 'color': '#503D36',\n",
    "                                               'font-size': 40}),\n",
    "                                # TASK 1: Add a dropdown list to enable Launch Site selection\n",
    "                                # The default select value is for ALL sites\n",
    "                                dcc.Dropdown(\n",
    "                                    id='site-dropdown',\n",
    "                                    options=[\n",
    "                                        {'label':'All Sites', 'value':'ALL'},\n",
    "                                        {'label':'CCAFS LC-40', 'value':'CCAFS LC-40'},\n",
    "                                        {'label':'CCAFS SLC-40', 'value':'CCAFS SLC-40'},\n",
    "                                        {'label':'KSC LC-39A', 'value':'KSC LC-39A'},\n",
    "                                        {'label':'VAFB SLC-4E', 'value':'VAFB SLC-4E'}\n",
    "                                    ],\n",
    "                                    value='ALL',\n",
    "                                    placeholder='Select Launch Site',\n",
    "                                    searchable=True\n",
    "                                    ),\n",
    "                                html.Br(),\n",
    "\n",
    "                                # TASK 2: Add a pie chart to show the total successful launches count for all sites\n",
    "                                # If a specific launch site was selected, show the Success vs. Failed counts for the site\n",
    "                                html.Div(dcc.Graph(id='success-pie-chart')),\n",
    "                                html.Br(),\n",
    "\n",
    "                                html.P(\"Payload range (Kg):\"),\n",
    "                                # TASK 3: Add a slider to select payload range\n",
    "                                dcc.RangeSlider(\n",
    "                                    id='payload-slider',\n",
    "                                    min=0,\n",
    "                                    max=10000,\n",
    "                                    step=1000,\n",
    "                                    value=[min_payload, max_payload]\n",
    "                                ),\n",
    "\n",
    "                                # TASK 4: Add a scatter chart to show the correlation between payload and launch success\n",
    "                                html.Div(dcc.Graph(id='success-payload-scatter-chart'))\n",
    "                                ])\n",
    "\n",
    "# TASK 2:\n",
    "# Add a callback function for `site-dropdown` as input, `success-pie-chart` as output\n",
    "@app.callback( \n",
    "    Output(component_id='success-pie-chart', component_property='figure'),\n",
    "    [Input(component_id='site-dropdown', component_property='value')]\n",
    ")\n",
    "\n",
    "#Computation to callback function and return graph\n",
    "def get_pie_chart(entered_site):\n",
    "    if entered_site == 'ALL':\n",
    "        success_count = spacex_df[spacex_df['class'] == 1].groupby('Launch Site', as_index=False).agg({'class':'count'})\n",
    "        success_count = success_count.rename({'class':'Success Count'}, axis=1)\n",
    "        fig = px.pie(data_frame=success_count, values='Success Count', names='Launch Site', title='Total Success Launches by Site')\n",
    "        return fig\n",
    "        \n",
    "    else:\n",
    "        #Count success and failures using number of rows from filtered dataframe\n",
    "        success_count = spacex_df[(spacex_df['Launch Site'] == entered_site) & (spacex_df['class'] == 1)].shape[0]\n",
    "        failure_count = spacex_df[(spacex_df['Launch Site'] == entered_site) & (spacex_df['class'] == 0)].shape[0]\n",
    "\n",
    "        #Prepare dataframe for pie chart\n",
    "        pie_data = pd.DataFrame({\n",
    "            'Outcome':['Success','Failure'],\n",
    "            'Count':[success_count, failure_count]\n",
    "        })\n",
    "\n",
    "        fig = px.pie(data_frame=pie_data, values='Count', names='Outcome', title=(f'Total Success Launches for Site {entered_site}'))\n",
    "        return fig\n",
    "\n",
    "# TASK 4:\n",
    "# Add a callback function for `site-dropdown` and `payload-slider` as inputs, `success-payload-scatter-chart` as output\n",
    "@app.callback(\n",
    "    Output(component_id='success-payload-scatter-chart', component_property='figure'),\n",
    "    [\n",
    "     Input(component_id='site-dropdown', component_property='value'), \n",
    "     Input(component_id='payload-slider', component_property='value')\n",
    "    ]\n",
    ")\n",
    "\n",
    "def get_scatter_plot(entered_site, entered_slider):\n",
    "    if entered_site == 'ALL':\n",
    "        scatter_df = spacex_df[(spacex_df['Payload Mass (kg)'] >= entered_slider[0]) & (spacex_df['Payload Mass (kg)'] <= entered_slider[1])]\n",
    "        fig = px.scatter(data_frame=scatter_df, x='Payload Mass (kg)', y='class', color='Booster Version Category')\n",
    "        return fig\n",
    "    else:\n",
    "        scatter_df = spacex_df[(spacex_df['Launch Site'] == entered_site) & (spacex_df['Payload Mass (kg)'] >= entered_slider[0]) & (spacex_df['Payload Mass (kg)'] <= entered_slider[1])]\n",
    "        fig = px.scatter(data_frame=scatter_df, x='Payload Mass (kg)', y='class', color='Booster Version Category')\n",
    "        return fig\n",
    "\n",
    "# Run the app\n",
    "if __name__ == '__main__':\n",
    "    app.run_server()\n"
   ]
  },
  {
   "cell_type": "markdown",
   "metadata": {},
   "source": [
    "#Examples"
   ]
  },
  {
   "cell_type": "code",
   "execution_count": 3,
   "metadata": {},
   "outputs": [],
   "source": [
    "#success_count = spacex_df[spacex_df['class'] == 1].groupby('Launch Site').agg({'class':'count'})\n",
    "#success_count = success_count.rename({'class':'Success Count'}, axis=1).reset_index()\n",
    "#success_count"
   ]
  },
  {
   "cell_type": "code",
   "execution_count": 4,
   "metadata": {},
   "outputs": [],
   "source": [
    "#Get success count by using shape and number of rows\n",
    "#success_count = spacex_df[(spacex_df['Launch Site'] == 'CCAFS LC-40') & (spacex_df['class'] == 1)]\n",
    "#success_count.shape"
   ]
  },
  {
   "cell_type": "code",
   "execution_count": 5,
   "metadata": {},
   "outputs": [],
   "source": [
    "#Get failure count by using shape and number of rows\n",
    "#failure_count = spacex_df[(spacex_df['Launch Site'] == 'CCAFS LC-40') & (spacex_df['class'] == 0)]\n",
    "#failure_count.shape"
   ]
  },
  {
   "cell_type": "code",
   "execution_count": 6,
   "metadata": {},
   "outputs": [],
   "source": [
    "#Get success count by using .count() method\n",
    "#success_count = spacex_df[(spacex_df['Launch Site'] == 'CCAFS LC-40') & (spacex_df['class'] == 1)]['class'].count()\n",
    "#success_count"
   ]
  }
 ],
 "metadata": {
  "kernelspec": {
   "display_name": "Python 3 (ipykernel)",
   "language": "python",
   "name": "python3"
  },
  "language_info": {
   "codemirror_mode": {
    "name": "ipython",
    "version": 3
   },
   "file_extension": ".py",
   "mimetype": "text/x-python",
   "name": "python",
   "nbconvert_exporter": "python",
   "pygments_lexer": "ipython3",
   "version": "3.11.8"
  }
 },
 "nbformat": 4,
 "nbformat_minor": 4
}
